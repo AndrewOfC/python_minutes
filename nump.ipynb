{
 "cells": [
  {
   "cell_type": "code",
   "id": "initial_id",
   "metadata": {
    "collapsed": true,
    "ExecuteTime": {
     "end_time": "2025-03-19T15:36:11.472711Z",
     "start_time": "2025-03-19T15:36:11.469064Z"
    }
   },
   "source": [
    "from math import pi\n",
    "import numpy as np\n",
    "\n",
    "n = 2048\n",
    "freq = 100\n",
    "step = (freq * 2 * pi) / n\n",
    "sig = np.sin(np.arange(0, n) * step)\n",
    "\n",
    "f = np.fft.fft(sig)\n",
    "f = np.abs(f)\n",
    "\n",
    "peak_index = np.argmax(f)\n",
    "peak_value = f[peak_index]\n",
    "peak_index"
   ],
   "outputs": [
    {
     "data": {
      "text/plain": [
       "np.int64(100)"
      ]
     },
     "execution_count": 8,
     "metadata": {},
     "output_type": "execute_result"
    }
   ],
   "execution_count": 8
  }
 ],
 "metadata": {
  "kernelspec": {
   "display_name": "Python 3",
   "language": "python",
   "name": "python3"
  },
  "language_info": {
   "codemirror_mode": {
    "name": "ipython",
    "version": 2
   },
   "file_extension": ".py",
   "mimetype": "text/x-python",
   "name": "python",
   "nbconvert_exporter": "python",
   "pygments_lexer": "ipython2",
   "version": "2.7.6"
  }
 },
 "nbformat": 4,
 "nbformat_minor": 5
}
