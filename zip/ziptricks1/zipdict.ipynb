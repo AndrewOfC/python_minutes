{
 "cells": [
  {
   "metadata": {
    "ExecuteTime": {
     "end_time": "2025-03-18T23:50:44.702222Z",
     "start_time": "2025-03-18T23:50:44.695526Z"
    }
   },
   "cell_type": "code",
   "source": [
    "t1 = ('a', 'b', 'c')\n",
    "t2 = range(3)\n",
    "d1 = dict(zip(t1, t2))\n",
    "d1"
   ],
   "id": "73b54312f50747d6",
   "outputs": [
    {
     "data": {
      "text/plain": [
       "{'a': 0, 'b': 1, 'c': 2}"
      ]
     },
     "execution_count": 20,
     "metadata": {},
     "output_type": "execute_result"
    }
   ],
   "execution_count": 20
  },
  {
   "metadata": {
    "ExecuteTime": {
     "end_time": "2025-03-18T23:50:44.738194Z",
     "start_time": "2025-03-18T23:50:44.731965Z"
    }
   },
   "cell_type": "code",
   "source": [
    "d1.keys(), d1.values()\n",
    "dict(zip(d1.values(), d1.keys()))"
   ],
   "id": "fabae4fe898bf51e",
   "outputs": [
    {
     "data": {
      "text/plain": [
       "{0: 'a', 1: 'b', 2: 'c'}"
      ]
     },
     "execution_count": 21,
     "metadata": {},
     "output_type": "execute_result"
    }
   ],
   "execution_count": 21
  }
 ],
 "metadata": {
  "kernelspec": {
   "display_name": "Python 3",
   "language": "python",
   "name": "python3"
  },
  "language_info": {
   "codemirror_mode": {
    "name": "ipython",
    "version": 2
   },
   "file_extension": ".py",
   "mimetype": "text/x-python",
   "name": "python",
   "nbconvert_exporter": "python",
   "pygments_lexer": "ipython2",
   "version": "2.7.6"
  }
 },
 "nbformat": 4,
 "nbformat_minor": 5
}
