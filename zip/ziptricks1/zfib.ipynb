{
 "cells": [
  {
   "metadata": {},
   "cell_type": "raw",
   "source": [
    "class ZFib(object):\n",
    "    def __init__(self, f0=0, f1=1):\n",
    "        self._f0 = f0\n",
    "        self._f1 = f1\n",
    "\n",
    "    def getF0(self):\n",
    "        while True:\n",
    "            yield self._f0\n",
    "\n",
    "    def getF1(self):\n",
    "        while True:\n",
    "            yield self._f1\n",
    "\n",
    "    def _setNext(self, newf):\n",
    "        self._f1 = self._f0\n",
    "        self._f0 = newf\n",
    "\n",
    "    next = property(None, _setNext)"
   ],
   "id": "6dff75e6e932f1f0"
  },
  {
   "metadata": {},
   "cell_type": "raw",
   "source": [
    "zfib = ZFib()\n",
    "for i, f0, f1 in zip(range(20), zfib.getF0(), zfib.getF1()):\n",
    "    next = f0 + f1\n",
    "    zfib.next = next\n",
    "    print(f\"{i:3}: {f0}\")\n",
    "\n"
   ],
   "id": "aa277578fa36eab7"
  },
  {
   "metadata": {},
   "cell_type": "code",
   "source": [
    "def fibber(f0=0, f1=1, n=-1):\n",
    "    while n !=0:\n",
    "        n -= 1\n",
    "        yield f0\n",
    "        f0, f1 = f1, f0 + f1"
   ],
   "id": "89476d814caf5828",
   "outputs": [],
   "execution_count": null
  },
  {
   "metadata": {
    "ExecuteTime": {
     "end_time": "2025-03-20T13:55:23.069706Z",
     "start_time": "2025-03-20T13:55:23.066397Z"
    }
   },
   "cell_type": "code",
   "source": "\" \".join(map(str, fibber(n=20)))",
   "id": "a61cd7c131ced2c8",
   "outputs": [
    {
     "data": {
      "text/plain": [
       "'0 1 1 2 3 5 8 13 21 34 55 89 144 233 377 610 987 1597 2584 4181'"
      ]
     },
     "execution_count": 11,
     "metadata": {},
     "output_type": "execute_result"
    }
   ],
   "execution_count": 11
  },
  {
   "metadata": {},
   "cell_type": "code",
   "source": "",
   "id": "d35985b6a12bdede",
   "outputs": [],
   "execution_count": null
  }
 ],
 "metadata": {
  "kernelspec": {
   "display_name": "Python 3",
   "language": "python",
   "name": "python3"
  },
  "language_info": {
   "codemirror_mode": {
    "name": "ipython",
    "version": 2
   },
   "file_extension": ".py",
   "mimetype": "text/x-python",
   "name": "python",
   "nbconvert_exporter": "python",
   "pygments_lexer": "ipython2",
   "version": "2.7.6"
  }
 },
 "nbformat": 4,
 "nbformat_minor": 5
}
