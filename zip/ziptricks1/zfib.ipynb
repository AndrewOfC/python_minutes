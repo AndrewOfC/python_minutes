{
 "cells": [
  {
   "cell_type": "code",
   "id": "initial_id",
   "metadata": {
    "collapsed": true
   },
   "source": [
    "class ZFib(object):\n",
    "    def __init__(self, f0=0, f1=1):\n",
    "        self._f0 = f0\n",
    "        self._f1 = f1\n",
    "\n",
    "    def getF0(self):\n",
    "        while True:\n",
    "            yield self._f0\n",
    "\n",
    "    def getF1(self):\n",
    "        while True:\n",
    "            yield self._f1\n",
    "\n",
    "    def _setNext(self, newf):\n",
    "        self._f1 = self._f0\n",
    "        self._f0 = newf\n",
    "\n",
    "    next = property(None, _setNext)"
   ],
   "outputs": [],
   "execution_count": null
  },
  {
   "metadata": {
    "ExecuteTime": {
     "end_time": "2025-03-19T00:11:37.327198Z",
     "start_time": "2025-03-19T00:11:37.322081Z"
    }
   },
   "cell_type": "code",
   "source": [
    "zfib = ZFib()\n",
    "for i, f0, f1 in zip(range(20), zfib.getF0(), zfib.getF1()):\n",
    "    next = f0 + f1\n",
    "    zfib.next = next\n",
    "    print(f\"{i:3}: {f0}\")\n"
   ],
   "id": "de91552fb72d32b3",
   "outputs": [
    {
     "name": "stdout",
     "output_type": "stream",
     "text": [
      "  0: 0\n",
      "  1: 1\n",
      "  2: 1\n",
      "  3: 2\n",
      "  4: 3\n",
      "  5: 5\n",
      "  6: 8\n",
      "  7: 13\n",
      "  8: 21\n",
      "  9: 34\n",
      " 10: 55\n",
      " 11: 89\n",
      " 12: 144\n",
      " 13: 233\n",
      " 14: 377\n",
      " 15: 610\n",
      " 16: 987\n",
      " 17: 1597\n",
      " 18: 2584\n",
      " 19: 4181\n"
     ]
    }
   ],
   "execution_count": 12
  }
 ],
 "metadata": {
  "kernelspec": {
   "display_name": "Python 3",
   "language": "python",
   "name": "python3"
  },
  "language_info": {
   "codemirror_mode": {
    "name": "ipython",
    "version": 2
   },
   "file_extension": ".py",
   "mimetype": "text/x-python",
   "name": "python",
   "nbconvert_exporter": "python",
   "pygments_lexer": "ipython2",
   "version": "2.7.6"
  }
 },
 "nbformat": 4,
 "nbformat_minor": 5
}
