{
 "cells": [
  {
   "cell_type": "code",
   "id": "initial_id",
   "metadata": {
    "collapsed": true,
    "ExecuteTime": {
     "end_time": "2025-03-17T18:25:02.896589Z",
     "start_time": "2025-03-17T18:25:02.892261Z"
    }
   },
   "source": [
    "a = (1,2,3)\n",
    "b = ('a', 'b', 'c')\n",
    "lzip = lambda *args: list(zip(*args))\n",
    "lzip(a,b)\n",
    "\n",
    "\n"
   ],
   "outputs": [
    {
     "data": {
      "text/plain": [
       "[(1, 'a'), (2, 'b'), (3, 'c')]"
      ]
     },
     "execution_count": 2,
     "metadata": {},
     "output_type": "execute_result"
    }
   ],
   "execution_count": 2
  },
  {
   "metadata": {
    "ExecuteTime": {
     "end_time": "2025-03-17T18:26:15.589473Z",
     "start_time": "2025-03-17T18:26:15.587071Z"
    }
   },
   "cell_type": "code",
   "source": [
    "for a,b in zip(a,b):\n",
    "    print(f\"a = {a} b = {b}\")"
   ],
   "id": "4c134b3b2e0b61a5",
   "outputs": [
    {
     "name": "stdout",
     "output_type": "stream",
     "text": [
      "a = 1 b = a\n",
      "a = 2 b = b\n",
      "a = 3 b = c\n"
     ]
    }
   ],
   "execution_count": 3
  },
  {
   "metadata": {},
   "cell_type": "code",
   "outputs": [],
   "execution_count": null,
   "source": "",
   "id": "aaac9c5be7c32e54"
  }
 ],
 "metadata": {
  "kernelspec": {
   "display_name": "Python 3",
   "language": "python",
   "name": "python3"
  },
  "language_info": {
   "codemirror_mode": {
    "name": "ipython",
    "version": 2
   },
   "file_extension": ".py",
   "mimetype": "text/x-python",
   "name": "python",
   "nbconvert_exporter": "python",
   "pygments_lexer": "ipython2",
   "version": "2.7.6"
  }
 },
 "nbformat": 4,
 "nbformat_minor": 5
}
